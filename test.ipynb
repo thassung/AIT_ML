{
 "cells": [
  {
   "cell_type": "code",
   "execution_count": 1,
   "metadata": {},
   "outputs": [],
   "source": [
    "import dash\n",
    "from dash import dcc, html\n",
    "from dash.dependencies import Input, Output\n",
    "import joblib\n",
    "import numpy as np\n",
    "import pickle\n",
    "import pandas as pd\n",
    "from sklearn.preprocessing import StandardScaler\n",
    "\n",
    "model = joblib.load('./code/model/rf_random_selling_price.model')"
   ]
  },
  {
   "cell_type": "code",
   "execution_count": 13,
   "metadata": {},
   "outputs": [],
   "source": [
    "input1 = 'Honda'\n",
    "\n",
    "def update_prediction(input1, input2=2015, input3=0, input4=1, input5=1, \n",
    "                      input6=60000, input7=19.3, input8=None, input9=82.85, \n",
    "                      input10=5, input11=None):\n",
    "\n",
    "    print(input3)\n",
    "    if input3 is not None and ~isinstance(input3, int):\n",
    "        if input3.lowercase() == 'petrol':\n",
    "            input3 = 1\n",
    "        elif input3.lowercase() == 'diesel':\n",
    "            input3 = 0\n",
    "    \n",
    "    if input4 is not None:\n",
    "        if input4.lowercase()[:4] == 'auto':\n",
    "            input4 = 0\n",
    "        elif input4.lowercase() == 'manual':\n",
    "            input4 = 1\n",
    "    \n",
    "    if input8 is None:\n",
    "        if input3 == 0:\n",
    "            input8 = 1497\n",
    "        elif input3 == 1:\n",
    "            input8 = 1197\n",
    "        else:\n",
    "            input8 = 1248\n",
    "    \n",
    "    if input11 is None:\n",
    "        input11_1 = 1  #indi\n",
    "        input11_2 = 0  #trust\n",
    "\n",
    "    tbs = [input6, input7, input8, input9]\n",
    "    scaler = pickle.load(open('./code/model/scaler.pkl','rb'))\n",
    "    tbs = scaler.transform(tbs)\n",
    "    input6, input7, input8, input9 = tbs\n",
    "\n",
    "    inputs = np.array([[input1, input2, input6, input3, input4,\n",
    "                        input5, input7, input8, input9, input10,\n",
    "                        input11_1, input11_2]])\n",
    "\n",
    "    brand_list = ['Ambassador', 'Ashok', 'Audi', 'BMW', 'Chevrolet', \n",
    "                     'Daewoo', 'Datsun', 'Fiat', 'Force', 'Ford', 'Honda', \n",
    "                     'Hyundai', 'Isuzu', 'Jaguar', 'Jeep', 'Kia', 'Land', \n",
    "                     'Lexus', 'MG', 'Mahindra', 'Maruti', 'Mercedes-Benz', \n",
    "                     'Mitsubishi', 'Nissan', 'Renault', 'Skoda', 'Tata', \n",
    "                     'Toyota', 'Volkswagen', 'Volvo', 'Opel', 'Peugeot']\n",
    "    b_cols = np.zeroes(len(brand_list))\n",
    "    for i, col in enumerate(brand_list):\n",
    "        if input1.capitalize() == col:\n",
    "            b_cols[i] = 1\n",
    "    \n",
    "    inputs = np.concatenate((input, b_cols))\n",
    "    inputs = inputs[1:]\n",
    "    inputs = inputs.reshape(1, -1)\n",
    "\n",
    "    prediction = np.exp(model.predict(inputs)[0])\n",
    "        \n",
    "    return f\"Predicted Value: {prediction:.2f}\""
   ]
  },
  {
   "cell_type": "code",
   "execution_count": 14,
   "metadata": {},
   "outputs": [
    {
     "name": "stdout",
     "output_type": "stream",
     "text": [
      "0\n"
     ]
    },
    {
     "ename": "AttributeError",
     "evalue": "'int' object has no attribute 'lowercase'",
     "output_type": "error",
     "traceback": [
      "\u001b[1;31m---------------------------------------------------------------------------\u001b[0m",
      "\u001b[1;31mAttributeError\u001b[0m                            Traceback (most recent call last)",
      "Cell \u001b[1;32mIn[14], line 1\u001b[0m\n\u001b[1;32m----> 1\u001b[0m a\u001b[39m=\u001b[39m update_prediction(input1\u001b[39m=\u001b[39;49minput1)\n\u001b[0;32m      2\u001b[0m \u001b[39mprint\u001b[39m(a)\n",
      "Cell \u001b[1;32mIn[13], line 9\u001b[0m, in \u001b[0;36mupdate_prediction\u001b[1;34m(input1, input2, input3, input4, input5, input6, input7, input8, input9, input10, input11)\u001b[0m\n\u001b[0;32m      7\u001b[0m \u001b[39mprint\u001b[39m(input3)\n\u001b[0;32m      8\u001b[0m \u001b[39mif\u001b[39;00m input3 \u001b[39mis\u001b[39;00m \u001b[39mnot\u001b[39;00m \u001b[39mNone\u001b[39;00m \u001b[39mand\u001b[39;00m \u001b[39m~\u001b[39m\u001b[39misinstance\u001b[39m(input3, \u001b[39mint\u001b[39m):\n\u001b[1;32m----> 9\u001b[0m     \u001b[39mif\u001b[39;00m input3\u001b[39m.\u001b[39;49mlowercase() \u001b[39m==\u001b[39m \u001b[39m'\u001b[39m\u001b[39mpetrol\u001b[39m\u001b[39m'\u001b[39m:\n\u001b[0;32m     10\u001b[0m         input3 \u001b[39m=\u001b[39m \u001b[39m1\u001b[39m\n\u001b[0;32m     11\u001b[0m     \u001b[39melif\u001b[39;00m input3\u001b[39m.\u001b[39mlowercase() \u001b[39m==\u001b[39m \u001b[39m'\u001b[39m\u001b[39mdiesel\u001b[39m\u001b[39m'\u001b[39m:\n",
      "\u001b[1;31mAttributeError\u001b[0m: 'int' object has no attribute 'lowercase'"
     ]
    }
   ],
   "source": [
    "a= update_prediction(input1=input1)\n",
    "print(a)"
   ]
  },
  {
   "cell_type": "code",
   "execution_count": null,
   "metadata": {},
   "outputs": [],
   "source": []
  }
 ],
 "metadata": {
  "kernelspec": {
   "display_name": "Python 3",
   "language": "python",
   "name": "python3"
  },
  "language_info": {
   "codemirror_mode": {
    "name": "ipython",
    "version": 3
   },
   "file_extension": ".py",
   "mimetype": "text/x-python",
   "name": "python",
   "nbconvert_exporter": "python",
   "pygments_lexer": "ipython3",
   "version": "3.11.5"
  },
  "orig_nbformat": 4,
  "vscode": {
   "interpreter": {
    "hash": "8e4ec63297a9306813d7e83258dafae3e2212f01549251d77cd4053ea85a4de0"
   }
  }
 },
 "nbformat": 4,
 "nbformat_minor": 2
}
